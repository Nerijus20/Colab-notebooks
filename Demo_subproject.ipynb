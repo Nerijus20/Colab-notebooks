{
  "nbformat": 4,
  "nbformat_minor": 0,
  "metadata": {
    "kernelspec": {
      "display_name": "Python 3",
      "language": "python",
      "name": "python3"
    },
    "language_info": {
      "codemirror_mode": {
        "name": "ipython",
        "version": 3
      },
      "file_extension": ".py",
      "mimetype": "text/x-python",
      "name": "python",
      "nbconvert_exporter": "python",
      "pygments_lexer": "ipython3",
      "version": "3.8.5"
    },
    "colab": {
      "name": "Demo_subproject.ipynb",
      "provenance": [],
      "collapsed_sections": [],
      "include_colab_link": true
    }
  },
  "cells": [
    {
      "cell_type": "markdown",
      "metadata": {
        "id": "view-in-github",
        "colab_type": "text"
      },
      "source": [
        "<a href=\"https://colab.research.google.com/github/Nerijus20/Colab-notebooks/blob/main/Demo_subproject.ipynb\" target=\"_parent\"><img src=\"https://colab.research.google.com/assets/colab-badge.svg\" alt=\"Open In Colab\"/></a>"
      ]
    },
    {
      "cell_type": "markdown",
      "metadata": {
        "id": "4SX9m5APG18h"
      },
      "source": [
        "# Module 1: Data Science Fundamentals"
      ]
    },
    {
      "cell_type": "markdown",
      "metadata": {
        "id": "jNJuqBBVG18j"
      },
      "source": [
        "## Module 1: Data Science Fundamentals\n",
        "### Sprint 1: Data Wrangling and Storytelling\n",
        "### Subproject 1: Exploratory Data Analysis"
      ]
    },
    {
      "cell_type": "markdown",
      "metadata": {
        "id": "J7W0B6sXG18k"
      },
      "source": [
        "Welcome to the very first subproject of Data Science Fundamentals module. Throughout 3 sprints, you will gain a solid understanding of fundamentals of Data Science. We will master exploratory data analysis (EDA), the bread and butter of data scientists, dive deep into statistical hypothesis testing, and finish-up with modeling (machine learning)! This will prepare you to tackle the capstone project, which will serve as your portfolio item.\n",
        "\n",
        "The first part focuses focuses on EDA. You will learn how to analyze data, generate statistics, and make informative, eye-catching visualizations."
      ]
    },
    {
      "cell_type": "markdown",
      "metadata": {
        "id": "90qdES7-G18l"
      },
      "source": [
        "## Learning outcomes:\n",
        "\n",
        "- Submit assignments via Github (save work to Github)\n",
        "- Read datasets from CSVs for analysis with Pandas\n",
        "- Use basic Pandas functions for Exploratory Data Analysis (EDA)\n",
        "- Generate Basic Visualizations with Pandas - line charts, scatter plots, histograms."
      ]
    },
    {
      "cell_type": "markdown",
      "metadata": {
        "id": "6eXNDjlLG18l"
      },
      "source": [
        "## Working with Github"
      ]
    },
    {
      "cell_type": "markdown",
      "metadata": {
        "id": "rVB9Uo5JG18l"
      },
      "source": [
        "Even though saving Colab notebooks is very simple, every data scientist should first understand what GitHub is and how it can be used fully. Go through [uploading your project to Github](https://lab.github.com/githubtraining/uploading-your-project-to-github) tutorial."
      ]
    },
    {
      "cell_type": "markdown",
      "metadata": {
        "id": "qftyuUCaG18l"
      },
      "source": [
        "### Exercise - your first commit"
      ]
    },
    {
      "cell_type": "markdown",
      "metadata": {
        "id": "JIve3Y0xG18m"
      },
      "source": [
        "Your first task is to store this notebook on your personal GitHub. Start by creating a repository and then upload this file (which you can download using \"File\"->\"Download .ipynb\").\n",
        "\n",
        "Now, whenever you make changes to the notebook, select \"Save a copy in GitHub\" and select your repository - this will create a new commit. Remember to set the commit message to something useful and informative - a sentence explaining what was done. Make sure you commit regularly - this will prevent you from losing work and let us see your progress better.\n",
        "\n",
        "To test whether saving of the notebook works, change the quoted text in the piece of code below, then save the notebook. Close the window and open the notebook again (you can do this using https://colab.research.google.com/ , selecting the 'GitHub' tab and adding the github link to your notebook). The text should remain changed.\n",
        "\n"
      ]
    },
    {
      "cell_type": "code",
      "metadata": {
        "id": "YgrbXZjEKgim",
        "colab": {
          "base_uri": "https://localhost:8080/"
        },
        "outputId": "6612d2f2-5839-49ea-f6a2-556f741f104a"
      },
      "source": [
        "print('Hello world!!')"
      ],
      "execution_count": null,
      "outputs": [
        {
          "output_type": "stream",
          "text": [
            "Hello world!\n"
          ],
          "name": "stdout"
        }
      ]
    },
    {
      "cell_type": "markdown",
      "metadata": {
        "id": "B5VtJ3BhLxnV"
      },
      "source": [
        "Make sure the repository is public and share the link to it with Turing College."
      ]
    },
    {
      "cell_type": "markdown",
      "metadata": {
        "id": "HcnVbAikG18m"
      },
      "source": [
        "## Introduction to Pandas"
      ]
    },
    {
      "cell_type": "markdown",
      "metadata": {
        "id": "CKXC070NG18m"
      },
      "source": [
        "<center><img width=\"300\" src=\"https://upload.wikimedia.org/wikipedia/commons/thumb/e/ed/Pandas_logo.svg/1200px-Pandas_logo.svg.png\" /></center>"
      ]
    },
    {
      "cell_type": "markdown",
      "metadata": {
        "id": "0tJnORYtG18m"
      },
      "source": [
        "To explore the data, we will use Pandas. Pandas is the most popular Python library for [EDA (exploratory data analysis)](https://towardsdatascience.com/exploratory-data-analysis-8fc1cb20fd15). No matter how complex the EDA, everything starts with loading a dataset. Get a grip of [pandas basics](https://www.learnpython.org/en/Pandas_Basics) and go through [importing a CSV dataset into Pandas](https://www.datacamp.com/community/tutorials/pandas-read-csv) tutorial, and let's start with loading the dataset from a CSV.\n",
        "\n",
        "Key takeways:\n",
        "* Pandas primary data structure is a `Dataframe`.\n",
        "* Dictionary of lists == Pandas DataFrame (conceptually). You can treat each column as a key, while column contents - as a list of values.\n",
        "* Pandas Dataframes unlock a vast amount of operations like grouping, filtering, calculating means, quantiles, unlike standard Python data structures."
      ]
    },
    {
      "cell_type": "markdown",
      "metadata": {
        "id": "euaUQXxvG18n"
      },
      "source": [
        "\n",
        "### Exercise - loading a dataset"
      ]
    },
    {
      "cell_type": "markdown",
      "metadata": {
        "id": "d3fNXIXPG18n"
      },
      "source": [
        "In this exercise, you will learn to load a Pandas dataset. We'll explore 2 methods to load a dataset - from a remote host and from your Colab notebook's local environment.\n",
        "\n",
        "1. Load a [remote](https://raw.githubusercontent.com/fivethirtyeight/data/master/nba-elo/nbaallelo.csv) dataset into Pandas and assign it to a variable `df1`.\n",
        "2. Download the same dataset using the provided `wget` command. Read the dataset with Pandas and assign it to a variable `df2`. \n",
        "3. Run the assert command to check that the two datasets are indeed the same. The head(x) function also lets you check the first x entries of the dataset - try it out."
      ]
    },
    {
      "cell_type": "code",
      "metadata": {
        "id": "dpMJZT6CG18n",
        "colab": {
          "base_uri": "https://localhost:8080/"
        },
        "outputId": "3b4639e6-9580-4aa1-cb28-c05bd7103ff8"
      },
      "source": [
        "# wget is a bash command line program, which is used to download files or website sources from the internet\n",
        "!wget https://raw.githubusercontent.com/fivethirtyeight/data/master/nba-elo/nbaallelo.csv -O nbaaellelo.csv"
      ],
      "execution_count": 10,
      "outputs": [
        {
          "output_type": "stream",
          "text": [
            "--2021-05-02 21:01:43--  https://raw.githubusercontent.com/fivethirtyeight/data/master/nba-elo/nbaallelo.csv\n",
            "Resolving raw.githubusercontent.com (raw.githubusercontent.com)... 185.199.109.133, 185.199.111.133, 185.199.108.133, ...\n",
            "Connecting to raw.githubusercontent.com (raw.githubusercontent.com)|185.199.109.133|:443... connected.\n",
            "HTTP request sent, awaiting response... 200 OK\n",
            "Length: 18173265 (17M) [text/plain]\n",
            "Saving to: ‘nbaaellelo.csv’\n",
            "\n",
            "nbaaellelo.csv      100%[===================>]  17.33M  52.6MB/s    in 0.3s    \n",
            "\n",
            "2021-05-02 21:01:43 (52.6 MB/s) - ‘nbaaellelo.csv’ saved [18173265/18173265]\n",
            "\n"
          ],
          "name": "stdout"
        }
      ]
    },
    {
      "cell_type": "code",
      "metadata": {
        "id": "iKv_wYQbG18o"
      },
      "source": [
        "# Import pandas as pd\n",
        "import pandas as pd\n",
        "\n",
        "# Import the nbaaellelo.csv data: df1\n",
        "df1 = pd.read_csv('nbaaellelo.csv')\n",
        "\n",
        "df2 = pd.read_csv('nbaaellelo.csv')\n",
        "\n",
        "assert df1.equals(df2)"
      ],
      "execution_count": 11,
      "outputs": []
    },
    {
      "cell_type": "code",
      "metadata": {
        "id": "2s3kyY1GG18o",
        "colab": {
          "base_uri": "https://localhost:8080/",
          "height": 224
        },
        "outputId": "001dceab-a10a-44ab-d609-3b4dce97c03b"
      },
      "source": [
        "df1.head()"
      ],
      "execution_count": null,
      "outputs": [
        {
          "output_type": "execute_result",
          "data": {
            "text/html": [
              "<div>\n",
              "<style scoped>\n",
              "    .dataframe tbody tr th:only-of-type {\n",
              "        vertical-align: middle;\n",
              "    }\n",
              "\n",
              "    .dataframe tbody tr th {\n",
              "        vertical-align: top;\n",
              "    }\n",
              "\n",
              "    .dataframe thead th {\n",
              "        text-align: right;\n",
              "    }\n",
              "</style>\n",
              "<table border=\"1\" class=\"dataframe\">\n",
              "  <thead>\n",
              "    <tr style=\"text-align: right;\">\n",
              "      <th></th>\n",
              "      <th>gameorder</th>\n",
              "      <th>game_id</th>\n",
              "      <th>lg_id</th>\n",
              "      <th>_iscopy</th>\n",
              "      <th>year_id</th>\n",
              "      <th>date_game</th>\n",
              "      <th>seasongame</th>\n",
              "      <th>is_playoffs</th>\n",
              "      <th>team_id</th>\n",
              "      <th>fran_id</th>\n",
              "      <th>pts</th>\n",
              "      <th>elo_i</th>\n",
              "      <th>elo_n</th>\n",
              "      <th>win_equiv</th>\n",
              "      <th>opp_id</th>\n",
              "      <th>opp_fran</th>\n",
              "      <th>opp_pts</th>\n",
              "      <th>opp_elo_i</th>\n",
              "      <th>opp_elo_n</th>\n",
              "      <th>game_location</th>\n",
              "      <th>game_result</th>\n",
              "      <th>forecast</th>\n",
              "      <th>notes</th>\n",
              "    </tr>\n",
              "  </thead>\n",
              "  <tbody>\n",
              "    <tr>\n",
              "      <th>0</th>\n",
              "      <td>1</td>\n",
              "      <td>194611010TRH</td>\n",
              "      <td>NBA</td>\n",
              "      <td>0</td>\n",
              "      <td>1947</td>\n",
              "      <td>11/1/1946</td>\n",
              "      <td>1</td>\n",
              "      <td>0</td>\n",
              "      <td>TRH</td>\n",
              "      <td>Huskies</td>\n",
              "      <td>66</td>\n",
              "      <td>1300.0000</td>\n",
              "      <td>1293.2767</td>\n",
              "      <td>40.294830</td>\n",
              "      <td>NYK</td>\n",
              "      <td>Knicks</td>\n",
              "      <td>68</td>\n",
              "      <td>1300.0000</td>\n",
              "      <td>1306.7233</td>\n",
              "      <td>H</td>\n",
              "      <td>L</td>\n",
              "      <td>0.640065</td>\n",
              "      <td>NaN</td>\n",
              "    </tr>\n",
              "    <tr>\n",
              "      <th>1</th>\n",
              "      <td>1</td>\n",
              "      <td>194611010TRH</td>\n",
              "      <td>NBA</td>\n",
              "      <td>1</td>\n",
              "      <td>1947</td>\n",
              "      <td>11/1/1946</td>\n",
              "      <td>1</td>\n",
              "      <td>0</td>\n",
              "      <td>NYK</td>\n",
              "      <td>Knicks</td>\n",
              "      <td>68</td>\n",
              "      <td>1300.0000</td>\n",
              "      <td>1306.7233</td>\n",
              "      <td>41.705170</td>\n",
              "      <td>TRH</td>\n",
              "      <td>Huskies</td>\n",
              "      <td>66</td>\n",
              "      <td>1300.0000</td>\n",
              "      <td>1293.2767</td>\n",
              "      <td>A</td>\n",
              "      <td>W</td>\n",
              "      <td>0.359935</td>\n",
              "      <td>NaN</td>\n",
              "    </tr>\n",
              "    <tr>\n",
              "      <th>2</th>\n",
              "      <td>2</td>\n",
              "      <td>194611020CHS</td>\n",
              "      <td>NBA</td>\n",
              "      <td>0</td>\n",
              "      <td>1947</td>\n",
              "      <td>11/2/1946</td>\n",
              "      <td>1</td>\n",
              "      <td>0</td>\n",
              "      <td>CHS</td>\n",
              "      <td>Stags</td>\n",
              "      <td>63</td>\n",
              "      <td>1300.0000</td>\n",
              "      <td>1309.6521</td>\n",
              "      <td>42.012257</td>\n",
              "      <td>NYK</td>\n",
              "      <td>Knicks</td>\n",
              "      <td>47</td>\n",
              "      <td>1306.7233</td>\n",
              "      <td>1297.0712</td>\n",
              "      <td>H</td>\n",
              "      <td>W</td>\n",
              "      <td>0.631101</td>\n",
              "      <td>NaN</td>\n",
              "    </tr>\n",
              "    <tr>\n",
              "      <th>3</th>\n",
              "      <td>2</td>\n",
              "      <td>194611020CHS</td>\n",
              "      <td>NBA</td>\n",
              "      <td>1</td>\n",
              "      <td>1947</td>\n",
              "      <td>11/2/1946</td>\n",
              "      <td>2</td>\n",
              "      <td>0</td>\n",
              "      <td>NYK</td>\n",
              "      <td>Knicks</td>\n",
              "      <td>47</td>\n",
              "      <td>1306.7233</td>\n",
              "      <td>1297.0712</td>\n",
              "      <td>40.692783</td>\n",
              "      <td>CHS</td>\n",
              "      <td>Stags</td>\n",
              "      <td>63</td>\n",
              "      <td>1300.0000</td>\n",
              "      <td>1309.6521</td>\n",
              "      <td>A</td>\n",
              "      <td>L</td>\n",
              "      <td>0.368899</td>\n",
              "      <td>NaN</td>\n",
              "    </tr>\n",
              "    <tr>\n",
              "      <th>4</th>\n",
              "      <td>3</td>\n",
              "      <td>194611020DTF</td>\n",
              "      <td>NBA</td>\n",
              "      <td>0</td>\n",
              "      <td>1947</td>\n",
              "      <td>11/2/1946</td>\n",
              "      <td>1</td>\n",
              "      <td>0</td>\n",
              "      <td>DTF</td>\n",
              "      <td>Falcons</td>\n",
              "      <td>33</td>\n",
              "      <td>1300.0000</td>\n",
              "      <td>1279.6189</td>\n",
              "      <td>38.864048</td>\n",
              "      <td>WSC</td>\n",
              "      <td>Capitols</td>\n",
              "      <td>50</td>\n",
              "      <td>1300.0000</td>\n",
              "      <td>1320.3811</td>\n",
              "      <td>H</td>\n",
              "      <td>L</td>\n",
              "      <td>0.640065</td>\n",
              "      <td>NaN</td>\n",
              "    </tr>\n",
              "  </tbody>\n",
              "</table>\n",
              "</div>"
            ],
            "text/plain": [
              "   gameorder       game_id lg_id  ...  game_result  forecast notes\n",
              "0          1  194611010TRH   NBA  ...            L  0.640065   NaN\n",
              "1          1  194611010TRH   NBA  ...            W  0.359935   NaN\n",
              "2          2  194611020CHS   NBA  ...            W  0.631101   NaN\n",
              "3          2  194611020CHS   NBA  ...            L  0.368899   NaN\n",
              "4          3  194611020DTF   NBA  ...            L  0.640065   NaN\n",
              "\n",
              "[5 rows x 23 columns]"
            ]
          },
          "metadata": {
            "tags": []
          },
          "execution_count": 7
        }
      ]
    },
    {
      "cell_type": "markdown",
      "metadata": {
        "id": "KAqVuTebG18p"
      },
      "source": [
        "When a dataframe has too many rows to fit the page, it's often convenient to `transpose` the dataframe with `.T`. Try it!"
      ]
    },
    {
      "cell_type": "code",
      "metadata": {
        "id": "kfCFbK2yG18p",
        "colab": {
          "base_uri": "https://localhost:8080/",
          "height": 762
        },
        "outputId": "e0ca6014-d830-4795-9044-349810d3d71c"
      },
      "source": [
        "df1.head().T"
      ],
      "execution_count": null,
      "outputs": [
        {
          "output_type": "execute_result",
          "data": {
            "text/html": [
              "<div>\n",
              "<style scoped>\n",
              "    .dataframe tbody tr th:only-of-type {\n",
              "        vertical-align: middle;\n",
              "    }\n",
              "\n",
              "    .dataframe tbody tr th {\n",
              "        vertical-align: top;\n",
              "    }\n",
              "\n",
              "    .dataframe thead th {\n",
              "        text-align: right;\n",
              "    }\n",
              "</style>\n",
              "<table border=\"1\" class=\"dataframe\">\n",
              "  <thead>\n",
              "    <tr style=\"text-align: right;\">\n",
              "      <th></th>\n",
              "      <th>0</th>\n",
              "      <th>1</th>\n",
              "      <th>2</th>\n",
              "      <th>3</th>\n",
              "      <th>4</th>\n",
              "    </tr>\n",
              "  </thead>\n",
              "  <tbody>\n",
              "    <tr>\n",
              "      <th>gameorder</th>\n",
              "      <td>1</td>\n",
              "      <td>1</td>\n",
              "      <td>2</td>\n",
              "      <td>2</td>\n",
              "      <td>3</td>\n",
              "    </tr>\n",
              "    <tr>\n",
              "      <th>game_id</th>\n",
              "      <td>194611010TRH</td>\n",
              "      <td>194611010TRH</td>\n",
              "      <td>194611020CHS</td>\n",
              "      <td>194611020CHS</td>\n",
              "      <td>194611020DTF</td>\n",
              "    </tr>\n",
              "    <tr>\n",
              "      <th>lg_id</th>\n",
              "      <td>NBA</td>\n",
              "      <td>NBA</td>\n",
              "      <td>NBA</td>\n",
              "      <td>NBA</td>\n",
              "      <td>NBA</td>\n",
              "    </tr>\n",
              "    <tr>\n",
              "      <th>_iscopy</th>\n",
              "      <td>0</td>\n",
              "      <td>1</td>\n",
              "      <td>0</td>\n",
              "      <td>1</td>\n",
              "      <td>0</td>\n",
              "    </tr>\n",
              "    <tr>\n",
              "      <th>year_id</th>\n",
              "      <td>1947</td>\n",
              "      <td>1947</td>\n",
              "      <td>1947</td>\n",
              "      <td>1947</td>\n",
              "      <td>1947</td>\n",
              "    </tr>\n",
              "    <tr>\n",
              "      <th>date_game</th>\n",
              "      <td>11/1/1946</td>\n",
              "      <td>11/1/1946</td>\n",
              "      <td>11/2/1946</td>\n",
              "      <td>11/2/1946</td>\n",
              "      <td>11/2/1946</td>\n",
              "    </tr>\n",
              "    <tr>\n",
              "      <th>seasongame</th>\n",
              "      <td>1</td>\n",
              "      <td>1</td>\n",
              "      <td>1</td>\n",
              "      <td>2</td>\n",
              "      <td>1</td>\n",
              "    </tr>\n",
              "    <tr>\n",
              "      <th>is_playoffs</th>\n",
              "      <td>0</td>\n",
              "      <td>0</td>\n",
              "      <td>0</td>\n",
              "      <td>0</td>\n",
              "      <td>0</td>\n",
              "    </tr>\n",
              "    <tr>\n",
              "      <th>team_id</th>\n",
              "      <td>TRH</td>\n",
              "      <td>NYK</td>\n",
              "      <td>CHS</td>\n",
              "      <td>NYK</td>\n",
              "      <td>DTF</td>\n",
              "    </tr>\n",
              "    <tr>\n",
              "      <th>fran_id</th>\n",
              "      <td>Huskies</td>\n",
              "      <td>Knicks</td>\n",
              "      <td>Stags</td>\n",
              "      <td>Knicks</td>\n",
              "      <td>Falcons</td>\n",
              "    </tr>\n",
              "    <tr>\n",
              "      <th>pts</th>\n",
              "      <td>66</td>\n",
              "      <td>68</td>\n",
              "      <td>63</td>\n",
              "      <td>47</td>\n",
              "      <td>33</td>\n",
              "    </tr>\n",
              "    <tr>\n",
              "      <th>elo_i</th>\n",
              "      <td>1300</td>\n",
              "      <td>1300</td>\n",
              "      <td>1300</td>\n",
              "      <td>1306.72</td>\n",
              "      <td>1300</td>\n",
              "    </tr>\n",
              "    <tr>\n",
              "      <th>elo_n</th>\n",
              "      <td>1293.28</td>\n",
              "      <td>1306.72</td>\n",
              "      <td>1309.65</td>\n",
              "      <td>1297.07</td>\n",
              "      <td>1279.62</td>\n",
              "    </tr>\n",
              "    <tr>\n",
              "      <th>win_equiv</th>\n",
              "      <td>40.2948</td>\n",
              "      <td>41.7052</td>\n",
              "      <td>42.0123</td>\n",
              "      <td>40.6928</td>\n",
              "      <td>38.864</td>\n",
              "    </tr>\n",
              "    <tr>\n",
              "      <th>opp_id</th>\n",
              "      <td>NYK</td>\n",
              "      <td>TRH</td>\n",
              "      <td>NYK</td>\n",
              "      <td>CHS</td>\n",
              "      <td>WSC</td>\n",
              "    </tr>\n",
              "    <tr>\n",
              "      <th>opp_fran</th>\n",
              "      <td>Knicks</td>\n",
              "      <td>Huskies</td>\n",
              "      <td>Knicks</td>\n",
              "      <td>Stags</td>\n",
              "      <td>Capitols</td>\n",
              "    </tr>\n",
              "    <tr>\n",
              "      <th>opp_pts</th>\n",
              "      <td>68</td>\n",
              "      <td>66</td>\n",
              "      <td>47</td>\n",
              "      <td>63</td>\n",
              "      <td>50</td>\n",
              "    </tr>\n",
              "    <tr>\n",
              "      <th>opp_elo_i</th>\n",
              "      <td>1300</td>\n",
              "      <td>1300</td>\n",
              "      <td>1306.72</td>\n",
              "      <td>1300</td>\n",
              "      <td>1300</td>\n",
              "    </tr>\n",
              "    <tr>\n",
              "      <th>opp_elo_n</th>\n",
              "      <td>1306.72</td>\n",
              "      <td>1293.28</td>\n",
              "      <td>1297.07</td>\n",
              "      <td>1309.65</td>\n",
              "      <td>1320.38</td>\n",
              "    </tr>\n",
              "    <tr>\n",
              "      <th>game_location</th>\n",
              "      <td>H</td>\n",
              "      <td>A</td>\n",
              "      <td>H</td>\n",
              "      <td>A</td>\n",
              "      <td>H</td>\n",
              "    </tr>\n",
              "    <tr>\n",
              "      <th>game_result</th>\n",
              "      <td>L</td>\n",
              "      <td>W</td>\n",
              "      <td>W</td>\n",
              "      <td>L</td>\n",
              "      <td>L</td>\n",
              "    </tr>\n",
              "    <tr>\n",
              "      <th>forecast</th>\n",
              "      <td>0.640065</td>\n",
              "      <td>0.359935</td>\n",
              "      <td>0.631101</td>\n",
              "      <td>0.368899</td>\n",
              "      <td>0.640065</td>\n",
              "    </tr>\n",
              "    <tr>\n",
              "      <th>notes</th>\n",
              "      <td>NaN</td>\n",
              "      <td>NaN</td>\n",
              "      <td>NaN</td>\n",
              "      <td>NaN</td>\n",
              "      <td>NaN</td>\n",
              "    </tr>\n",
              "  </tbody>\n",
              "</table>\n",
              "</div>"
            ],
            "text/plain": [
              "                          0             1  ...             3             4\n",
              "gameorder                 1             1  ...             2             3\n",
              "game_id        194611010TRH  194611010TRH  ...  194611020CHS  194611020DTF\n",
              "lg_id                   NBA           NBA  ...           NBA           NBA\n",
              "_iscopy                   0             1  ...             1             0\n",
              "year_id                1947          1947  ...          1947          1947\n",
              "date_game         11/1/1946     11/1/1946  ...     11/2/1946     11/2/1946\n",
              "seasongame                1             1  ...             2             1\n",
              "is_playoffs               0             0  ...             0             0\n",
              "team_id                 TRH           NYK  ...           NYK           DTF\n",
              "fran_id             Huskies        Knicks  ...        Knicks       Falcons\n",
              "pts                      66            68  ...            47            33\n",
              "elo_i                  1300          1300  ...       1306.72          1300\n",
              "elo_n               1293.28       1306.72  ...       1297.07       1279.62\n",
              "win_equiv           40.2948       41.7052  ...       40.6928        38.864\n",
              "opp_id                  NYK           TRH  ...           CHS           WSC\n",
              "opp_fran             Knicks       Huskies  ...         Stags      Capitols\n",
              "opp_pts                  68            66  ...            63            50\n",
              "opp_elo_i              1300          1300  ...          1300          1300\n",
              "opp_elo_n           1306.72       1293.28  ...       1309.65       1320.38\n",
              "game_location             H             A  ...             A             H\n",
              "game_result               L             W  ...             L             L\n",
              "forecast           0.640065      0.359935  ...      0.368899      0.640065\n",
              "notes                   NaN           NaN  ...           NaN           NaN\n",
              "\n",
              "[23 rows x 5 columns]"
            ]
          },
          "metadata": {
            "tags": []
          },
          "execution_count": 8
        }
      ]
    },
    {
      "cell_type": "markdown",
      "metadata": {
        "id": "Yzv6mnWvG18p"
      },
      "source": [
        "## Basic Pandas functions for EDA"
      ]
    },
    {
      "cell_type": "markdown",
      "metadata": {
        "id": "uDL0c9EaG18p"
      },
      "source": [
        "You don't have to be all fancy and smart to perform basic EDA. Most of EDA features several basic operations, and Pandas the process accessible."
      ]
    },
    {
      "cell_type": "markdown",
      "metadata": {
        "id": "u0ck-Y-NG18p"
      },
      "source": [
        "## Basic descriptive statistics"
      ]
    },
    {
      "cell_type": "markdown",
      "metadata": {
        "id": "Plq5B0vXG18q"
      },
      "source": [
        "[Mean](https://pandas.pydata.org/pandas-docs/stable/reference/api/pandas.DataFrame.mean.html) value, [Median](https://pandas.pydata.org/pandas-docs/stable/reference/api/pandas.DataFrame.median.html) value, [standard deviation](https://pandas.pydata.org/pandas-docs/stable/reference/api/pandas.DataFrame.std.html), [minimum](https://pandas.pydata.org/pandas-docs/stable/reference/api/pandas.DataFrame.min.html), [maximum](https://pandas.pydata.org/pandas-docs/stable/reference/api/pandas.DataFrame.max.html) values, [quantiles](https://pandas.pydata.org/pandas-docs/stable/reference/api/pandas.DataFrame.quantile.html). These are the data properties you should explore first."
      ]
    },
    {
      "cell_type": "markdown",
      "metadata": {
        "id": "aMLl04jiG18q"
      },
      "source": [
        "### Exercise - exploring the scores"
      ]
    },
    {
      "cell_type": "markdown",
      "metadata": {
        "id": "xuk5vPkPG18q"
      },
      "source": [
        "Calculate the mean `avg_pts`, `median_pts`, minimum `min_pts` and maximum `max_pts` values of points scored by NBA players using the dataset loaded before. To make things spicy, calculate quantiles at every 5% `quantiles`. How does the distribution look like? Why?"
      ]
    },
    {
      "cell_type": "code",
      "metadata": {
        "id": "CFlHTs9BG18q",
        "colab": {
          "base_uri": "https://localhost:8080/",
          "height": 528
        },
        "outputId": "49718f16-ca98-418e-fd65-62f2f732a1f9"
      },
      "source": [
        "import numpy as np\n",
        "import pandas as pd\n",
        "\n",
        "avg_pts = df1['pts'].mean()\n",
        "median_pts = df1['pts'].median()\n",
        "\n",
        "assert round(avg_pts, 1) == 102.7\n",
        "assert round(median_pts, 1) == 103\n",
        "\n",
        "quantiles = df1\n",
        "np.testing.assert_array_almost_equal(quantiles,  \n",
        "  [0.0,\n",
        "   79.0,\n",
        "   84.0,\n",
        "   88.0,\n",
        "   91.0,\n",
        "   93.0,\n",
        "   95.0,\n",
        "   97.0,\n",
        "   99.0,\n",
        "   101.0,\n",
        "   103.0,\n",
        "   104.0,\n",
        "   106.0,\n",
        "   108.0,\n",
        "   110.0,\n",
        "   112.0,\n",
        "   115.0,\n",
        "   118.0,\n",
        "   122.0,\n",
        "   127.0])\n",
        "\n",
        "max_pts = df1['pts'].max()\n",
        "min_pts = df1['pts'].min()\n",
        "assert round(max_pts, 2) == 186\n",
        "assert round(min_pts, 2) == 0"
      ],
      "execution_count": 16,
      "outputs": [
        {
          "output_type": "error",
          "ename": "AssertionError",
          "evalue": "ignored",
          "traceback": [
            "\u001b[0;31m---------------------------------------------------------------------------\u001b[0m",
            "\u001b[0;31mAssertionError\u001b[0m                            Traceback (most recent call last)",
            "\u001b[0;32m<ipython-input-16-c60a8136330b>\u001b[0m in \u001b[0;36m<module>\u001b[0;34m()\u001b[0m\n\u001b[1;32m     29\u001b[0m    \u001b[0;36m118.0\u001b[0m\u001b[0;34m,\u001b[0m\u001b[0;34m\u001b[0m\u001b[0;34m\u001b[0m\u001b[0m\n\u001b[1;32m     30\u001b[0m    \u001b[0;36m122.0\u001b[0m\u001b[0;34m,\u001b[0m\u001b[0;34m\u001b[0m\u001b[0;34m\u001b[0m\u001b[0m\n\u001b[0;32m---> 31\u001b[0;31m    127.0])\n\u001b[0m\u001b[1;32m     32\u001b[0m \u001b[0;34m\u001b[0m\u001b[0m\n\u001b[1;32m     33\u001b[0m \u001b[0mmax_pts\u001b[0m \u001b[0;34m=\u001b[0m \u001b[0mdf1\u001b[0m\u001b[0;34m[\u001b[0m\u001b[0;34m'pts'\u001b[0m\u001b[0;34m]\u001b[0m\u001b[0;34m.\u001b[0m\u001b[0mmax\u001b[0m\u001b[0;34m(\u001b[0m\u001b[0;34m)\u001b[0m\u001b[0;34m\u001b[0m\u001b[0;34m\u001b[0m\u001b[0m\n",
            "\u001b[0;32m/usr/local/lib/python3.7/dist-packages/numpy/testing/_private/utils.py\u001b[0m in \u001b[0;36massert_array_almost_equal\u001b[0;34m(x, y, decimal, err_msg, verbose)\u001b[0m\n\u001b[1;32m   1042\u001b[0m     assert_array_compare(compare, x, y, err_msg=err_msg, verbose=verbose,\n\u001b[1;32m   1043\u001b[0m              \u001b[0mheader\u001b[0m\u001b[0;34m=\u001b[0m\u001b[0;34m(\u001b[0m\u001b[0;34m'Arrays are not almost equal to %d decimals'\u001b[0m \u001b[0;34m%\u001b[0m \u001b[0mdecimal\u001b[0m\u001b[0;34m)\u001b[0m\u001b[0;34m,\u001b[0m\u001b[0;34m\u001b[0m\u001b[0;34m\u001b[0m\u001b[0m\n\u001b[0;32m-> 1044\u001b[0;31m              precision=decimal)\n\u001b[0m\u001b[1;32m   1045\u001b[0m \u001b[0;34m\u001b[0m\u001b[0m\n\u001b[1;32m   1046\u001b[0m \u001b[0;34m\u001b[0m\u001b[0m\n",
            "\u001b[0;32m/usr/local/lib/python3.7/dist-packages/numpy/testing/_private/utils.py\u001b[0m in \u001b[0;36massert_array_compare\u001b[0;34m(comparison, x, y, err_msg, verbose, header, precision, equal_nan, equal_inf)\u001b[0m\n\u001b[1;32m    757\u001b[0m                                 \u001b[0mverbose\u001b[0m\u001b[0;34m=\u001b[0m\u001b[0mverbose\u001b[0m\u001b[0;34m,\u001b[0m \u001b[0mheader\u001b[0m\u001b[0;34m=\u001b[0m\u001b[0mheader\u001b[0m\u001b[0;34m,\u001b[0m\u001b[0;34m\u001b[0m\u001b[0;34m\u001b[0m\u001b[0m\n\u001b[1;32m    758\u001b[0m                                 names=('x', 'y'), precision=precision)\n\u001b[0;32m--> 759\u001b[0;31m             \u001b[0;32mraise\u001b[0m \u001b[0mAssertionError\u001b[0m\u001b[0;34m(\u001b[0m\u001b[0mmsg\u001b[0m\u001b[0;34m)\u001b[0m\u001b[0;34m\u001b[0m\u001b[0;34m\u001b[0m\u001b[0m\n\u001b[0m\u001b[1;32m    760\u001b[0m \u001b[0;34m\u001b[0m\u001b[0m\n\u001b[1;32m    761\u001b[0m         \u001b[0mflagged\u001b[0m \u001b[0;34m=\u001b[0m \u001b[0mbool_\u001b[0m\u001b[0;34m(\u001b[0m\u001b[0;32mFalse\u001b[0m\u001b[0;34m)\u001b[0m\u001b[0;34m\u001b[0m\u001b[0;34m\u001b[0m\u001b[0m\n",
            "\u001b[0;31mAssertionError\u001b[0m: \nArrays are not almost equal to 6 decimals\n\n(shapes (126314, 23), (20,) mismatch)\n x: array([[1, '194611010TRH', 'NBA', ..., 'L', 0.64006501, nan],\n       [1, '194611010TRH', 'NBA', ..., 'W', 0.35993499, nan],\n       [2, '194611020CHS', 'NBA', ..., 'W', 0.63110125, nan],...\n y: array([  0.,  79.,  84.,  88.,  91.,  93.,  95.,  97.,  99., 101., 103.,\n       104., 106., 108., 110., 112., 115., 118., 122., 127.])"
          ]
        }
      ]
    },
    {
      "cell_type": "markdown",
      "metadata": {
        "id": "fsG3FEUzG18q"
      },
      "source": [
        "## Grouping, Aggregations"
      ]
    },
    {
      "cell_type": "markdown",
      "metadata": {
        "id": "6RcpD6cnG18r"
      },
      "source": [
        "Read this [tutorial](https://jakevdp.github.io/PythonDataScienceHandbook/03.08-aggregation-and-grouping.html#GroupBy:-Split,-Apply,-Combine) from Data Science Handbook to get familiar with the philosophy of groupby and the API of grouping in Pandas."
      ]
    },
    {
      "cell_type": "markdown",
      "metadata": {
        "id": "YD6nS2msG18r"
      },
      "source": [
        "### Exercise - slice and measure"
      ]
    },
    {
      "cell_type": "markdown",
      "metadata": {
        "id": "l-kEXK0VG18r"
      },
      "source": [
        "Global statistics are biased - not all teams score 100 points per game, some teams performs above average.\n",
        "\n",
        "Find 5 teams (by fran_id) with most average points scored per game. Save as `five_best_teams`."
      ]
    },
    {
      "cell_type": "code",
      "metadata": {
        "id": "xIYPhFH7G18r",
        "colab": {
          "base_uri": "https://localhost:8080/",
          "height": 443
        },
        "outputId": "ab615f10-a342-4eb3-a5a7-8ab70cdf62d4"
      },
      "source": [
        "import pandas as pd\n",
        "\n",
        "#df1.groupby['pts'].mean()\n",
        "df1.groupby('gameorder').aggregate(['min', np.mean, max])\n",
        "\n",
        "\n",
        "#np.testing.assert_array_almost_equal(five_best_teams[\"pts\"].values, [115.44651163, 114.05131414, 112.65454545, 112.35449735, 111.62529551])"
      ],
      "execution_count": null,
      "outputs": [
        {
          "output_type": "error",
          "ename": "KeyboardInterrupt",
          "evalue": "ignored",
          "traceback": [
            "\u001b[0;31m---------------------------------------------------------------------------\u001b[0m",
            "\u001b[0;31mKeyboardInterrupt\u001b[0m                         Traceback (most recent call last)",
            "\u001b[0;32m<ipython-input-29-4335d6b31286>\u001b[0m in \u001b[0;36m<module>\u001b[0;34m()\u001b[0m\n\u001b[1;32m      2\u001b[0m \u001b[0;34m\u001b[0m\u001b[0m\n\u001b[1;32m      3\u001b[0m \u001b[0;31m#df1.groupby['pts'].mean()\u001b[0m\u001b[0;34m\u001b[0m\u001b[0;34m\u001b[0m\u001b[0;34m\u001b[0m\u001b[0m\n\u001b[0;32m----> 4\u001b[0;31m \u001b[0mdf1\u001b[0m\u001b[0;34m.\u001b[0m\u001b[0mgroupby\u001b[0m\u001b[0;34m(\u001b[0m\u001b[0;34m'gameorder'\u001b[0m\u001b[0;34m)\u001b[0m\u001b[0;34m.\u001b[0m\u001b[0maggregate\u001b[0m\u001b[0;34m(\u001b[0m\u001b[0;34m[\u001b[0m\u001b[0;34m'min'\u001b[0m\u001b[0;34m,\u001b[0m \u001b[0mnp\u001b[0m\u001b[0;34m.\u001b[0m\u001b[0mmean\u001b[0m\u001b[0;34m,\u001b[0m \u001b[0mmax\u001b[0m\u001b[0;34m]\u001b[0m\u001b[0;34m)\u001b[0m\u001b[0;34m\u001b[0m\u001b[0;34m\u001b[0m\u001b[0m\n\u001b[0m\u001b[1;32m      5\u001b[0m \u001b[0;34m\u001b[0m\u001b[0m\n\u001b[1;32m      6\u001b[0m \u001b[0;34m\u001b[0m\u001b[0m\n",
            "\u001b[0;32m/usr/local/lib/python3.7/dist-packages/pandas/core/groupby/generic.py\u001b[0m in \u001b[0;36maggregate\u001b[0;34m(self, func, engine, engine_kwargs, *args, **kwargs)\u001b[0m\n\u001b[1;32m    949\u001b[0m         \u001b[0mfunc\u001b[0m \u001b[0;34m=\u001b[0m \u001b[0mmaybe_mangle_lambdas\u001b[0m\u001b[0;34m(\u001b[0m\u001b[0mfunc\u001b[0m\u001b[0;34m)\u001b[0m\u001b[0;34m\u001b[0m\u001b[0;34m\u001b[0m\u001b[0m\n\u001b[1;32m    950\u001b[0m \u001b[0;34m\u001b[0m\u001b[0m\n\u001b[0;32m--> 951\u001b[0;31m         \u001b[0mresult\u001b[0m\u001b[0;34m,\u001b[0m \u001b[0mhow\u001b[0m \u001b[0;34m=\u001b[0m \u001b[0mself\u001b[0m\u001b[0;34m.\u001b[0m\u001b[0m_aggregate\u001b[0m\u001b[0;34m(\u001b[0m\u001b[0mfunc\u001b[0m\u001b[0;34m,\u001b[0m \u001b[0;34m*\u001b[0m\u001b[0margs\u001b[0m\u001b[0;34m,\u001b[0m \u001b[0;34m**\u001b[0m\u001b[0mkwargs\u001b[0m\u001b[0;34m)\u001b[0m\u001b[0;34m\u001b[0m\u001b[0;34m\u001b[0m\u001b[0m\n\u001b[0m\u001b[1;32m    952\u001b[0m         \u001b[0;32mif\u001b[0m \u001b[0mhow\u001b[0m \u001b[0;32mis\u001b[0m \u001b[0;32mNone\u001b[0m\u001b[0;34m:\u001b[0m\u001b[0;34m\u001b[0m\u001b[0;34m\u001b[0m\u001b[0m\n\u001b[1;32m    953\u001b[0m             \u001b[0;32mreturn\u001b[0m \u001b[0mresult\u001b[0m\u001b[0;34m\u001b[0m\u001b[0;34m\u001b[0m\u001b[0m\n",
            "\u001b[0;32m/usr/local/lib/python3.7/dist-packages/pandas/core/base.py\u001b[0m in \u001b[0;36m_aggregate\u001b[0;34m(self, arg, *args, **kwargs)\u001b[0m\n\u001b[1;32m    478\u001b[0m         \u001b[0;32melif\u001b[0m \u001b[0mis_list_like\u001b[0m\u001b[0;34m(\u001b[0m\u001b[0marg\u001b[0m\u001b[0;34m)\u001b[0m\u001b[0;34m:\u001b[0m\u001b[0;34m\u001b[0m\u001b[0;34m\u001b[0m\u001b[0m\n\u001b[1;32m    479\u001b[0m             \u001b[0;31m# we require a list, but not an 'str'\u001b[0m\u001b[0;34m\u001b[0m\u001b[0;34m\u001b[0m\u001b[0;34m\u001b[0m\u001b[0m\n\u001b[0;32m--> 480\u001b[0;31m             \u001b[0;32mreturn\u001b[0m \u001b[0mself\u001b[0m\u001b[0;34m.\u001b[0m\u001b[0m_aggregate_multiple_funcs\u001b[0m\u001b[0;34m(\u001b[0m\u001b[0marg\u001b[0m\u001b[0;34m,\u001b[0m \u001b[0m_axis\u001b[0m\u001b[0;34m=\u001b[0m\u001b[0m_axis\u001b[0m\u001b[0;34m)\u001b[0m\u001b[0;34m,\u001b[0m \u001b[0;32mNone\u001b[0m\u001b[0;34m\u001b[0m\u001b[0;34m\u001b[0m\u001b[0m\n\u001b[0m\u001b[1;32m    481\u001b[0m         \u001b[0;32melse\u001b[0m\u001b[0;34m:\u001b[0m\u001b[0;34m\u001b[0m\u001b[0;34m\u001b[0m\u001b[0m\n\u001b[1;32m    482\u001b[0m             \u001b[0mresult\u001b[0m \u001b[0;34m=\u001b[0m \u001b[0;32mNone\u001b[0m\u001b[0;34m\u001b[0m\u001b[0;34m\u001b[0m\u001b[0m\n",
            "\u001b[0;32m/usr/local/lib/python3.7/dist-packages/pandas/core/base.py\u001b[0m in \u001b[0;36m_aggregate_multiple_funcs\u001b[0;34m(self, arg, _axis)\u001b[0m\n\u001b[1;32m    524\u001b[0m                 \u001b[0mcolg\u001b[0m \u001b[0;34m=\u001b[0m \u001b[0mself\u001b[0m\u001b[0;34m.\u001b[0m\u001b[0m_gotitem\u001b[0m\u001b[0;34m(\u001b[0m\u001b[0mcol\u001b[0m\u001b[0;34m,\u001b[0m \u001b[0mndim\u001b[0m\u001b[0;34m=\u001b[0m\u001b[0;36m1\u001b[0m\u001b[0;34m,\u001b[0m \u001b[0msubset\u001b[0m\u001b[0;34m=\u001b[0m\u001b[0mobj\u001b[0m\u001b[0;34m.\u001b[0m\u001b[0miloc\u001b[0m\u001b[0;34m[\u001b[0m\u001b[0;34m:\u001b[0m\u001b[0;34m,\u001b[0m \u001b[0mindex\u001b[0m\u001b[0;34m]\u001b[0m\u001b[0;34m)\u001b[0m\u001b[0;34m\u001b[0m\u001b[0;34m\u001b[0m\u001b[0m\n\u001b[1;32m    525\u001b[0m                 \u001b[0;32mtry\u001b[0m\u001b[0;34m:\u001b[0m\u001b[0;34m\u001b[0m\u001b[0;34m\u001b[0m\u001b[0m\n\u001b[0;32m--> 526\u001b[0;31m                     \u001b[0mnew_res\u001b[0m \u001b[0;34m=\u001b[0m \u001b[0mcolg\u001b[0m\u001b[0;34m.\u001b[0m\u001b[0maggregate\u001b[0m\u001b[0;34m(\u001b[0m\u001b[0marg\u001b[0m\u001b[0;34m)\u001b[0m\u001b[0;34m\u001b[0m\u001b[0;34m\u001b[0m\u001b[0m\n\u001b[0m\u001b[1;32m    527\u001b[0m                 \u001b[0;32mexcept\u001b[0m \u001b[0;34m(\u001b[0m\u001b[0mTypeError\u001b[0m\u001b[0;34m,\u001b[0m \u001b[0mDataError\u001b[0m\u001b[0;34m)\u001b[0m\u001b[0;34m:\u001b[0m\u001b[0;34m\u001b[0m\u001b[0;34m\u001b[0m\u001b[0m\n\u001b[1;32m    528\u001b[0m                     \u001b[0;32mpass\u001b[0m\u001b[0;34m\u001b[0m\u001b[0;34m\u001b[0m\u001b[0m\n",
            "\u001b[0;32m/usr/local/lib/python3.7/dist-packages/pandas/core/groupby/generic.py\u001b[0m in \u001b[0;36maggregate\u001b[0;34m(self, func, engine, engine_kwargs, *args, **kwargs)\u001b[0m\n\u001b[1;32m    244\u001b[0m             \u001b[0;31m# but not the class list / tuple itself.\u001b[0m\u001b[0;34m\u001b[0m\u001b[0;34m\u001b[0m\u001b[0;34m\u001b[0m\u001b[0m\n\u001b[1;32m    245\u001b[0m             \u001b[0mfunc\u001b[0m \u001b[0;34m=\u001b[0m \u001b[0mmaybe_mangle_lambdas\u001b[0m\u001b[0;34m(\u001b[0m\u001b[0mfunc\u001b[0m\u001b[0;34m)\u001b[0m\u001b[0;34m\u001b[0m\u001b[0;34m\u001b[0m\u001b[0m\n\u001b[0;32m--> 246\u001b[0;31m             \u001b[0mret\u001b[0m \u001b[0;34m=\u001b[0m \u001b[0mself\u001b[0m\u001b[0;34m.\u001b[0m\u001b[0m_aggregate_multiple_funcs\u001b[0m\u001b[0;34m(\u001b[0m\u001b[0mfunc\u001b[0m\u001b[0;34m)\u001b[0m\u001b[0;34m\u001b[0m\u001b[0;34m\u001b[0m\u001b[0m\n\u001b[0m\u001b[1;32m    247\u001b[0m             \u001b[0;32mif\u001b[0m \u001b[0mrelabeling\u001b[0m\u001b[0;34m:\u001b[0m\u001b[0;34m\u001b[0m\u001b[0;34m\u001b[0m\u001b[0m\n\u001b[1;32m    248\u001b[0m                 \u001b[0mret\u001b[0m\u001b[0;34m.\u001b[0m\u001b[0mcolumns\u001b[0m \u001b[0;34m=\u001b[0m \u001b[0mcolumns\u001b[0m\u001b[0;34m\u001b[0m\u001b[0;34m\u001b[0m\u001b[0m\n",
            "\u001b[0;32m/usr/local/lib/python3.7/dist-packages/pandas/core/groupby/generic.py\u001b[0m in \u001b[0;36m_aggregate_multiple_funcs\u001b[0;34m(self, arg)\u001b[0m\n\u001b[1;32m    317\u001b[0m                 \u001b[0mobj\u001b[0m\u001b[0;34m.\u001b[0m\u001b[0m_reset_cache\u001b[0m\u001b[0;34m(\u001b[0m\u001b[0;34m)\u001b[0m\u001b[0;34m\u001b[0m\u001b[0;34m\u001b[0m\u001b[0m\n\u001b[1;32m    318\u001b[0m                 \u001b[0mobj\u001b[0m\u001b[0;34m.\u001b[0m\u001b[0m_selection\u001b[0m \u001b[0;34m=\u001b[0m \u001b[0mname\u001b[0m\u001b[0;34m\u001b[0m\u001b[0;34m\u001b[0m\u001b[0m\n\u001b[0;32m--> 319\u001b[0;31m             \u001b[0mresults\u001b[0m\u001b[0;34m[\u001b[0m\u001b[0mbase\u001b[0m\u001b[0;34m.\u001b[0m\u001b[0mOutputKey\u001b[0m\u001b[0;34m(\u001b[0m\u001b[0mlabel\u001b[0m\u001b[0;34m=\u001b[0m\u001b[0mname\u001b[0m\u001b[0;34m,\u001b[0m \u001b[0mposition\u001b[0m\u001b[0;34m=\u001b[0m\u001b[0midx\u001b[0m\u001b[0;34m)\u001b[0m\u001b[0;34m]\u001b[0m \u001b[0;34m=\u001b[0m \u001b[0mobj\u001b[0m\u001b[0;34m.\u001b[0m\u001b[0maggregate\u001b[0m\u001b[0;34m(\u001b[0m\u001b[0mfunc\u001b[0m\u001b[0;34m)\u001b[0m\u001b[0;34m\u001b[0m\u001b[0;34m\u001b[0m\u001b[0m\n\u001b[0m\u001b[1;32m    320\u001b[0m \u001b[0;34m\u001b[0m\u001b[0m\n\u001b[1;32m    321\u001b[0m         \u001b[0;32mif\u001b[0m \u001b[0many\u001b[0m\u001b[0;34m(\u001b[0m\u001b[0misinstance\u001b[0m\u001b[0;34m(\u001b[0m\u001b[0mx\u001b[0m\u001b[0;34m,\u001b[0m \u001b[0mDataFrame\u001b[0m\u001b[0;34m)\u001b[0m \u001b[0;32mfor\u001b[0m \u001b[0mx\u001b[0m \u001b[0;32min\u001b[0m \u001b[0mresults\u001b[0m\u001b[0;34m.\u001b[0m\u001b[0mvalues\u001b[0m\u001b[0;34m(\u001b[0m\u001b[0;34m)\u001b[0m\u001b[0;34m)\u001b[0m\u001b[0;34m:\u001b[0m\u001b[0;34m\u001b[0m\u001b[0;34m\u001b[0m\u001b[0m\n",
            "\u001b[0;32m/usr/local/lib/python3.7/dist-packages/pandas/core/groupby/generic.py\u001b[0m in \u001b[0;36maggregate\u001b[0;34m(self, func, engine, engine_kwargs, *args, **kwargs)\u001b[0m\n\u001b[1;32m    238\u001b[0m \u001b[0;34m\u001b[0m\u001b[0m\n\u001b[1;32m    239\u001b[0m         \u001b[0;32mif\u001b[0m \u001b[0misinstance\u001b[0m\u001b[0;34m(\u001b[0m\u001b[0mfunc\u001b[0m\u001b[0;34m,\u001b[0m \u001b[0mstr\u001b[0m\u001b[0;34m)\u001b[0m\u001b[0;34m:\u001b[0m\u001b[0;34m\u001b[0m\u001b[0;34m\u001b[0m\u001b[0m\n\u001b[0;32m--> 240\u001b[0;31m             \u001b[0;32mreturn\u001b[0m \u001b[0mgetattr\u001b[0m\u001b[0;34m(\u001b[0m\u001b[0mself\u001b[0m\u001b[0;34m,\u001b[0m \u001b[0mfunc\u001b[0m\u001b[0;34m)\u001b[0m\u001b[0;34m(\u001b[0m\u001b[0;34m*\u001b[0m\u001b[0margs\u001b[0m\u001b[0;34m,\u001b[0m \u001b[0;34m**\u001b[0m\u001b[0mkwargs\u001b[0m\u001b[0;34m)\u001b[0m\u001b[0;34m\u001b[0m\u001b[0;34m\u001b[0m\u001b[0m\n\u001b[0m\u001b[1;32m    241\u001b[0m \u001b[0;34m\u001b[0m\u001b[0m\n\u001b[1;32m    242\u001b[0m         \u001b[0;32melif\u001b[0m \u001b[0misinstance\u001b[0m\u001b[0;34m(\u001b[0m\u001b[0mfunc\u001b[0m\u001b[0;34m,\u001b[0m \u001b[0mabc\u001b[0m\u001b[0;34m.\u001b[0m\u001b[0mIterable\u001b[0m\u001b[0;34m)\u001b[0m\u001b[0;34m:\u001b[0m\u001b[0;34m\u001b[0m\u001b[0;34m\u001b[0m\u001b[0m\n",
            "\u001b[0;32m/usr/local/lib/python3.7/dist-packages/pandas/core/groupby/groupby.py\u001b[0m in \u001b[0;36mmin\u001b[0;34m(self, numeric_only, min_count)\u001b[0m\n\u001b[1;32m   1552\u001b[0m     \u001b[0;32mdef\u001b[0m \u001b[0mmin\u001b[0m\u001b[0;34m(\u001b[0m\u001b[0mself\u001b[0m\u001b[0;34m,\u001b[0m \u001b[0mnumeric_only\u001b[0m\u001b[0;34m:\u001b[0m \u001b[0mbool\u001b[0m \u001b[0;34m=\u001b[0m \u001b[0;32mFalse\u001b[0m\u001b[0;34m,\u001b[0m \u001b[0mmin_count\u001b[0m\u001b[0;34m:\u001b[0m \u001b[0mint\u001b[0m \u001b[0;34m=\u001b[0m \u001b[0;34m-\u001b[0m\u001b[0;36m1\u001b[0m\u001b[0;34m)\u001b[0m\u001b[0;34m:\u001b[0m\u001b[0;34m\u001b[0m\u001b[0;34m\u001b[0m\u001b[0m\n\u001b[1;32m   1553\u001b[0m         return self._agg_general(\n\u001b[0;32m-> 1554\u001b[0;31m             \u001b[0mnumeric_only\u001b[0m\u001b[0;34m=\u001b[0m\u001b[0mnumeric_only\u001b[0m\u001b[0;34m,\u001b[0m \u001b[0mmin_count\u001b[0m\u001b[0;34m=\u001b[0m\u001b[0mmin_count\u001b[0m\u001b[0;34m,\u001b[0m \u001b[0malias\u001b[0m\u001b[0;34m=\u001b[0m\u001b[0;34m\"min\"\u001b[0m\u001b[0;34m,\u001b[0m \u001b[0mnpfunc\u001b[0m\u001b[0;34m=\u001b[0m\u001b[0mnp\u001b[0m\u001b[0;34m.\u001b[0m\u001b[0mmin\u001b[0m\u001b[0;34m\u001b[0m\u001b[0;34m\u001b[0m\u001b[0m\n\u001b[0m\u001b[1;32m   1555\u001b[0m         )\n\u001b[1;32m   1556\u001b[0m \u001b[0;34m\u001b[0m\u001b[0m\n",
            "\u001b[0;32m/usr/local/lib/python3.7/dist-packages/pandas/core/groupby/groupby.py\u001b[0m in \u001b[0;36m_agg_general\u001b[0;34m(self, numeric_only, min_count, alias, npfunc)\u001b[0m\n\u001b[1;32m   1015\u001b[0m         \u001b[0;31m# apply a non-cython aggregation\u001b[0m\u001b[0;34m\u001b[0m\u001b[0;34m\u001b[0m\u001b[0;34m\u001b[0m\u001b[0m\n\u001b[1;32m   1016\u001b[0m         \u001b[0;32mif\u001b[0m \u001b[0mresult\u001b[0m \u001b[0;32mis\u001b[0m \u001b[0;32mNone\u001b[0m\u001b[0;34m:\u001b[0m\u001b[0;34m\u001b[0m\u001b[0;34m\u001b[0m\u001b[0m\n\u001b[0;32m-> 1017\u001b[0;31m             \u001b[0mresult\u001b[0m \u001b[0;34m=\u001b[0m \u001b[0mself\u001b[0m\u001b[0;34m.\u001b[0m\u001b[0maggregate\u001b[0m\u001b[0;34m(\u001b[0m\u001b[0;32mlambda\u001b[0m \u001b[0mx\u001b[0m\u001b[0;34m:\u001b[0m \u001b[0mnpfunc\u001b[0m\u001b[0;34m(\u001b[0m\u001b[0mx\u001b[0m\u001b[0;34m,\u001b[0m \u001b[0maxis\u001b[0m\u001b[0;34m=\u001b[0m\u001b[0mself\u001b[0m\u001b[0;34m.\u001b[0m\u001b[0maxis\u001b[0m\u001b[0;34m)\u001b[0m\u001b[0;34m)\u001b[0m\u001b[0;34m\u001b[0m\u001b[0;34m\u001b[0m\u001b[0m\n\u001b[0m\u001b[1;32m   1018\u001b[0m         \u001b[0;32mreturn\u001b[0m \u001b[0mresult\u001b[0m\u001b[0;34m.\u001b[0m\u001b[0m__finalize__\u001b[0m\u001b[0;34m(\u001b[0m\u001b[0mself\u001b[0m\u001b[0;34m.\u001b[0m\u001b[0mobj\u001b[0m\u001b[0;34m,\u001b[0m \u001b[0mmethod\u001b[0m\u001b[0;34m=\u001b[0m\u001b[0;34m\"groupby\"\u001b[0m\u001b[0;34m)\u001b[0m\u001b[0;34m\u001b[0m\u001b[0;34m\u001b[0m\u001b[0m\n\u001b[1;32m   1019\u001b[0m \u001b[0;34m\u001b[0m\u001b[0m\n",
            "\u001b[0;32m/usr/local/lib/python3.7/dist-packages/pandas/core/groupby/generic.py\u001b[0m in \u001b[0;36maggregate\u001b[0;34m(self, func, engine, engine_kwargs, *args, **kwargs)\u001b[0m\n\u001b[1;32m    259\u001b[0m             \u001b[0;32mtry\u001b[0m\u001b[0;34m:\u001b[0m\u001b[0;34m\u001b[0m\u001b[0;34m\u001b[0m\u001b[0m\n\u001b[1;32m    260\u001b[0m                 return self._python_agg_general(\n\u001b[0;32m--> 261\u001b[0;31m                     \u001b[0mfunc\u001b[0m\u001b[0;34m,\u001b[0m \u001b[0;34m*\u001b[0m\u001b[0margs\u001b[0m\u001b[0;34m,\u001b[0m \u001b[0mengine\u001b[0m\u001b[0;34m=\u001b[0m\u001b[0mengine\u001b[0m\u001b[0;34m,\u001b[0m \u001b[0mengine_kwargs\u001b[0m\u001b[0;34m=\u001b[0m\u001b[0mengine_kwargs\u001b[0m\u001b[0;34m,\u001b[0m \u001b[0;34m**\u001b[0m\u001b[0mkwargs\u001b[0m\u001b[0;34m\u001b[0m\u001b[0;34m\u001b[0m\u001b[0m\n\u001b[0m\u001b[1;32m    262\u001b[0m                 )\n\u001b[1;32m    263\u001b[0m             \u001b[0;32mexcept\u001b[0m \u001b[0;34m(\u001b[0m\u001b[0mValueError\u001b[0m\u001b[0;34m,\u001b[0m \u001b[0mKeyError\u001b[0m\u001b[0;34m)\u001b[0m\u001b[0;34m:\u001b[0m\u001b[0;34m\u001b[0m\u001b[0;34m\u001b[0m\u001b[0m\n",
            "\u001b[0;32m/usr/local/lib/python3.7/dist-packages/pandas/core/groupby/groupby.py\u001b[0m in \u001b[0;36m_python_agg_general\u001b[0;34m(self, func, engine, engine_kwargs, *args, **kwargs)\u001b[0m\n\u001b[1;32m   1083\u001b[0m                 \u001b[0;32mtry\u001b[0m\u001b[0;34m:\u001b[0m\u001b[0;34m\u001b[0m\u001b[0;34m\u001b[0m\u001b[0m\n\u001b[1;32m   1084\u001b[0m                     \u001b[0;31m# if this function is invalid for this dtype, we will ignore it.\u001b[0m\u001b[0;34m\u001b[0m\u001b[0;34m\u001b[0m\u001b[0;34m\u001b[0m\u001b[0m\n\u001b[0;32m-> 1085\u001b[0;31m                     \u001b[0mresult\u001b[0m\u001b[0;34m,\u001b[0m \u001b[0mcounts\u001b[0m \u001b[0;34m=\u001b[0m \u001b[0mself\u001b[0m\u001b[0;34m.\u001b[0m\u001b[0mgrouper\u001b[0m\u001b[0;34m.\u001b[0m\u001b[0magg_series\u001b[0m\u001b[0;34m(\u001b[0m\u001b[0mobj\u001b[0m\u001b[0;34m,\u001b[0m \u001b[0mf\u001b[0m\u001b[0;34m)\u001b[0m\u001b[0;34m\u001b[0m\u001b[0;34m\u001b[0m\u001b[0m\n\u001b[0m\u001b[1;32m   1086\u001b[0m                 \u001b[0;32mexcept\u001b[0m \u001b[0mTypeError\u001b[0m\u001b[0;34m:\u001b[0m\u001b[0;34m\u001b[0m\u001b[0;34m\u001b[0m\u001b[0m\n\u001b[1;32m   1087\u001b[0m                     \u001b[0;32mcontinue\u001b[0m\u001b[0;34m\u001b[0m\u001b[0;34m\u001b[0m\u001b[0m\n",
            "\u001b[0;32m/usr/local/lib/python3.7/dist-packages/pandas/core/groupby/ops.py\u001b[0m in \u001b[0;36magg_series\u001b[0;34m(self, obj, func, engine, engine_kwargs, *args, **kwargs)\u001b[0m\n\u001b[1;32m    649\u001b[0m \u001b[0;34m\u001b[0m\u001b[0m\n\u001b[1;32m    650\u001b[0m         \u001b[0;32mtry\u001b[0m\u001b[0;34m:\u001b[0m\u001b[0;34m\u001b[0m\u001b[0;34m\u001b[0m\u001b[0m\n\u001b[0;32m--> 651\u001b[0;31m             \u001b[0;32mreturn\u001b[0m \u001b[0mself\u001b[0m\u001b[0;34m.\u001b[0m\u001b[0m_aggregate_series_fast\u001b[0m\u001b[0;34m(\u001b[0m\u001b[0mobj\u001b[0m\u001b[0;34m,\u001b[0m \u001b[0mfunc\u001b[0m\u001b[0;34m)\u001b[0m\u001b[0;34m\u001b[0m\u001b[0;34m\u001b[0m\u001b[0m\n\u001b[0m\u001b[1;32m    652\u001b[0m         \u001b[0;32mexcept\u001b[0m \u001b[0mValueError\u001b[0m \u001b[0;32mas\u001b[0m \u001b[0merr\u001b[0m\u001b[0;34m:\u001b[0m\u001b[0;34m\u001b[0m\u001b[0;34m\u001b[0m\u001b[0m\n\u001b[1;32m    653\u001b[0m             \u001b[0;32mif\u001b[0m \u001b[0;34m\"Function does not reduce\"\u001b[0m \u001b[0;32min\u001b[0m \u001b[0mstr\u001b[0m\u001b[0;34m(\u001b[0m\u001b[0merr\u001b[0m\u001b[0;34m)\u001b[0m\u001b[0;34m:\u001b[0m\u001b[0;34m\u001b[0m\u001b[0;34m\u001b[0m\u001b[0m\n",
            "\u001b[0;32m/usr/local/lib/python3.7/dist-packages/pandas/core/groupby/ops.py\u001b[0m in \u001b[0;36m_aggregate_series_fast\u001b[0;34m(self, obj, func)\u001b[0m\n\u001b[1;32m    674\u001b[0m         \u001b[0mgroup_index\u001b[0m \u001b[0;34m=\u001b[0m \u001b[0malgorithms\u001b[0m\u001b[0;34m.\u001b[0m\u001b[0mtake_nd\u001b[0m\u001b[0;34m(\u001b[0m\u001b[0mgroup_index\u001b[0m\u001b[0;34m,\u001b[0m \u001b[0mindexer\u001b[0m\u001b[0;34m,\u001b[0m \u001b[0mallow_fill\u001b[0m\u001b[0;34m=\u001b[0m\u001b[0;32mFalse\u001b[0m\u001b[0;34m)\u001b[0m\u001b[0;34m\u001b[0m\u001b[0;34m\u001b[0m\u001b[0m\n\u001b[1;32m    675\u001b[0m         \u001b[0mgrouper\u001b[0m \u001b[0;34m=\u001b[0m \u001b[0mlibreduction\u001b[0m\u001b[0;34m.\u001b[0m\u001b[0mSeriesGrouper\u001b[0m\u001b[0;34m(\u001b[0m\u001b[0mobj\u001b[0m\u001b[0;34m,\u001b[0m \u001b[0mfunc\u001b[0m\u001b[0;34m,\u001b[0m \u001b[0mgroup_index\u001b[0m\u001b[0;34m,\u001b[0m \u001b[0mngroups\u001b[0m\u001b[0;34m,\u001b[0m \u001b[0mdummy\u001b[0m\u001b[0;34m)\u001b[0m\u001b[0;34m\u001b[0m\u001b[0;34m\u001b[0m\u001b[0m\n\u001b[0;32m--> 676\u001b[0;31m         \u001b[0mresult\u001b[0m\u001b[0;34m,\u001b[0m \u001b[0mcounts\u001b[0m \u001b[0;34m=\u001b[0m \u001b[0mgrouper\u001b[0m\u001b[0;34m.\u001b[0m\u001b[0mget_result\u001b[0m\u001b[0;34m(\u001b[0m\u001b[0;34m)\u001b[0m\u001b[0;34m\u001b[0m\u001b[0;34m\u001b[0m\u001b[0m\n\u001b[0m\u001b[1;32m    677\u001b[0m         \u001b[0;32mreturn\u001b[0m \u001b[0mresult\u001b[0m\u001b[0;34m,\u001b[0m \u001b[0mcounts\u001b[0m\u001b[0;34m\u001b[0m\u001b[0;34m\u001b[0m\u001b[0m\n\u001b[1;32m    678\u001b[0m \u001b[0;34m\u001b[0m\u001b[0m\n",
            "\u001b[0;32mpandas/_libs/reduction.pyx\u001b[0m in \u001b[0;36mpandas._libs.reduction.SeriesGrouper.get_result\u001b[0;34m()\u001b[0m\n",
            "\u001b[0;32mpandas/_libs/reduction.pyx\u001b[0m in \u001b[0;36mpandas._libs.reduction._BaseGrouper._update_cached_objs\u001b[0;34m()\u001b[0m\n",
            "\u001b[0;32m/usr/local/lib/python3.7/dist-packages/pandas/core/internals/managers.py\u001b[0m in \u001b[0;36m_block\u001b[0;34m(self)\u001b[0m\n\u001b[1;32m   1582\u001b[0m         \u001b[0;32mpass\u001b[0m\u001b[0;34m\u001b[0m\u001b[0;34m\u001b[0m\u001b[0m\n\u001b[1;32m   1583\u001b[0m \u001b[0;34m\u001b[0m\u001b[0m\n\u001b[0;32m-> 1584\u001b[0;31m     \u001b[0;34m@\u001b[0m\u001b[0mproperty\u001b[0m\u001b[0;34m\u001b[0m\u001b[0;34m\u001b[0m\u001b[0m\n\u001b[0m\u001b[1;32m   1585\u001b[0m     \u001b[0;32mdef\u001b[0m \u001b[0m_block\u001b[0m\u001b[0;34m(\u001b[0m\u001b[0mself\u001b[0m\u001b[0;34m)\u001b[0m \u001b[0;34m->\u001b[0m \u001b[0mBlock\u001b[0m\u001b[0;34m:\u001b[0m\u001b[0;34m\u001b[0m\u001b[0;34m\u001b[0m\u001b[0m\n\u001b[1;32m   1586\u001b[0m         \u001b[0;32mreturn\u001b[0m \u001b[0mself\u001b[0m\u001b[0;34m.\u001b[0m\u001b[0mblocks\u001b[0m\u001b[0;34m[\u001b[0m\u001b[0;36m0\u001b[0m\u001b[0;34m]\u001b[0m\u001b[0;34m\u001b[0m\u001b[0;34m\u001b[0m\u001b[0m\n",
            "\u001b[0;31mKeyboardInterrupt\u001b[0m: "
          ]
        }
      ]
    },
    {
      "cell_type": "markdown",
      "metadata": {
        "id": "8u_uhy4cG18r"
      },
      "source": [
        "## Basic Visualizations"
      ]
    },
    {
      "cell_type": "markdown",
      "metadata": {
        "id": "GXuxno3kG18s"
      },
      "source": [
        "Although at the end of this week you will have learned some fancy ways of visualizing data with matplotlib and Seaborn, Pandas exposes some basic visualization API, which is quite useful for many basic cases."
      ]
    },
    {
      "cell_type": "markdown",
      "metadata": {
        "id": "QlS-0iiXG18s"
      },
      "source": [
        "Let's start with some readings. Go through a official Pandas [tutorial](https://pandas.pydata.org/docs/user_guide/visualization.html) on the visualizations API. Copy-paste the code, try to run it in the notebook."
      ]
    },
    {
      "cell_type": "code",
      "metadata": {
        "id": "M9WXecbmtHdi"
      },
      "source": [
        ""
      ],
      "execution_count": null,
      "outputs": []
    },
    {
      "cell_type": "code",
      "metadata": {
        "id": "hjYg3NyxtHNG"
      },
      "source": [
        ""
      ],
      "execution_count": null,
      "outputs": []
    },
    {
      "cell_type": "markdown",
      "metadata": {
        "id": "GXAZEkWtG18s"
      },
      "source": [
        "### Exercise - let's visualize the games!"
      ]
    },
    {
      "cell_type": "markdown",
      "metadata": {
        "id": "ML_jzE_UG18s"
      },
      "source": [
        "Visualize top 10 teams who score most / least on average per play. Use a bar chart for that."
      ]
    },
    {
      "cell_type": "markdown",
      "metadata": {
        "id": "8oyxFU8EG18s"
      },
      "source": [
        "You should see a result as follows:\n",
        "<div><img src=\"https://i.imgur.com/io7fvju.png\" /></div>"
      ]
    },
    {
      "cell_type": "markdown",
      "metadata": {
        "id": "dW8b6nxfG18t"
      },
      "source": [
        "You should see a result as follows:\n",
        "<div><img src=\"https://i.imgur.com/6VXMksY.png\" /></div>"
      ]
    },
    {
      "cell_type": "markdown",
      "metadata": {
        "id": "raaon4SNG18t"
      },
      "source": [
        "Now try to visualize all team scores the same way."
      ]
    },
    {
      "cell_type": "markdown",
      "metadata": {
        "id": "OVB5_ciGG18t"
      },
      "source": [
        "You should see a result as follows:\n",
        "<div><img src=\"https://i.imgur.com/L2iTGuC.png\" /></div>"
      ]
    },
    {
      "cell_type": "markdown",
      "metadata": {
        "id": "WzwAyhfRG18t"
      },
      "source": [
        "The results do not seem that intriguing. Although, it seems that the slope of 60-95 scoring teams and 100-120 is steeper than mid-section of the curve. Which indicates that most teams score around 100 points.\n",
        "\n",
        "A histogram could enhance these frequency differences. Plot the data with a `hist` type with 20 bins. Would you guess what kind of distribution does it (nearly) follow?"
      ]
    },
    {
      "cell_type": "markdown",
      "metadata": {
        "id": "GO1FSYhwG18t"
      },
      "source": [
        "You should see a result as follows:\n",
        "<div><img src=\"https://i.imgur.com/Pc3sUKN.png\"/></div>"
      ]
    },
    {
      "cell_type": "markdown",
      "metadata": {
        "id": "7n9dh3KnG18t"
      },
      "source": [
        "Seems like most teams do score ~100 - 105 points per game. The kind of distribution on the right is called a skewed Normal Distribution."
      ]
    },
    {
      "cell_type": "markdown",
      "metadata": {
        "id": "yqUYuXDLG18t"
      },
      "source": [
        "There's one more often used plot type to explore - a **line chart**. Your task is to visualize Los Angeles Lakers wins per years. Which year has been most successful for the team?"
      ]
    },
    {
      "cell_type": "markdown",
      "metadata": {
        "id": "dpM8Q3Q5G18u"
      },
      "source": [
        "From the chart, it should be clear that LAL success is periodic - 10 to 20 years they win about 80 times per year."
      ]
    },
    {
      "cell_type": "markdown",
      "metadata": {
        "id": "rCMrrLzlG18u"
      },
      "source": [
        "## Exercise"
      ]
    },
    {
      "cell_type": "markdown",
      "metadata": {
        "id": "3sdVCQdoG18u"
      },
      "source": [
        "For our last exercise for the day, we'll be exploring statistics of U.S. births."
      ]
    },
    {
      "cell_type": "markdown",
      "metadata": {
        "id": "RB1FB-63G18u"
      },
      "source": [
        "Here's the [link](https://raw.githubusercontent.com/fivethirtyeight/data/master/births/US_births_2000-2014_SSA.csv) to the dataset."
      ]
    },
    {
      "cell_type": "markdown",
      "metadata": {
        "id": "jUR2gTpoG18u"
      },
      "source": [
        "Your objective is to answer the following questions:\n",
        "\n",
        "* How does the month impact childbirth?\n",
        "* Have there been any significants ups / downs in chilbirth throughout the years? Could you explain them?\n",
        "* Which days of the week children are born most frequently on?\n",
        "* What's the lowest/biggest amount of childbirths per month?\n",
        "* Which months are most / least predictable in terms of childbirth? (hint - use standard deviation)\n",
        "\n",
        "Requirements:\n",
        "* Dataset is loaded from a remote CSV.\n",
        "* Basic EDA Pandas statistical functions are used (min, max, mean, std).\n",
        "* Grouping and aggregations.\n",
        "* Charts used: line, bar plot."
      ]
    },
    {
      "cell_type": "markdown",
      "metadata": {
        "id": "i6YpHv_hG18v"
      },
      "source": [
        "Seems like there's a significantly lower amount of births during weekends. Could it be that on weekdays there are more doctors in hospitals? Source: https://www.sciencedaily.com/releases/2007/09/070925130026.htm."
      ]
    },
    {
      "cell_type": "markdown",
      "metadata": {
        "id": "B3hUnXMNG18v"
      },
      "source": [
        "People seem to be making children in winter, just before Christmas."
      ]
    },
    {
      "cell_type": "markdown",
      "metadata": {
        "id": "8_l--D53G18v"
      },
      "source": [
        "Pre-economical crysis baby boom?"
      ]
    },
    {
      "cell_type": "markdown",
      "metadata": {
        "id": "g45MypNiG18v"
      },
      "source": [
        "Seems like childbirth varies most towards the end of a year."
      ]
    },
    {
      "cell_type": "markdown",
      "metadata": {
        "id": "H4aDHNYmG18v"
      },
      "source": [
        "-------"
      ]
    },
    {
      "cell_type": "markdown",
      "metadata": {
        "id": "m2qqocezG18v"
      },
      "source": [
        "## Summary"
      ]
    },
    {
      "cell_type": "markdown",
      "metadata": {
        "id": "tC04kgU4G18v"
      },
      "source": [
        "Basic EDA is what data scientists always do with when starting to work with a new dataset. It's an essential skill to possess. Though, data comes in all shapes and flavors. There's much more to plotting than Pandas APIs. This is what we'll focus on in subsequent chapters."
      ]
    },
    {
      "cell_type": "code",
      "metadata": {
        "id": "26e-4y6hG18v"
      },
      "source": [
        ""
      ],
      "execution_count": null,
      "outputs": []
    }
  ]
}